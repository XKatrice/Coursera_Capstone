{
 "cells": [
  {
   "cell_type": "markdown",
   "metadata": {},
   "source": [
    "# Segmenting and Clustering Neighborhoods in Toronto, Canada\n",
    "\n",
    "### IBM Data Science Certificate: Capstone Project\n",
    "Kate Rees, July 2020 "
   ]
  },
  {
   "cell_type": "markdown",
   "metadata": {},
   "source": [
    "## Part 1:  Scraping postcode and district data on Toronto from wikipedia"
   ]
  },
  {
   "cell_type": "code",
   "execution_count": 1,
   "metadata": {},
   "outputs": [],
   "source": [
    "import pandas as pd # importing pandas to handle dataframes"
   ]
  },
  {
   "cell_type": "code",
   "execution_count": 10,
   "metadata": {},
   "outputs": [
    {
     "name": "stdout",
     "output_type": "stream",
     "text": [
      "3\n"
     ]
    }
   ],
   "source": [
    "url = 'https://en.wikipedia.org/wiki/List_of_postal_codes_of_Canada:_M'  # web url containing table of Toronto postcodes\n",
    "\n",
    "dfs = pd.read_html(url)  #reads the wiki page into a set of dataframes\n",
    "\n",
    "print(len(dfs))  #count how many dataframes there are "
   ]
  },
  {
   "cell_type": "code",
   "execution_count": 11,
   "metadata": {},
   "outputs": [],
   "source": [
    "df = dfs[0]   #assign the first dataframe to a variable, df"
   ]
  },
  {
   "cell_type": "code",
   "execution_count": 15,
   "metadata": {},
   "outputs": [
    {
     "data": {
      "text/html": [
       "<div>\n",
       "<style scoped>\n",
       "    .dataframe tbody tr th:only-of-type {\n",
       "        vertical-align: middle;\n",
       "    }\n",
       "\n",
       "    .dataframe tbody tr th {\n",
       "        vertical-align: top;\n",
       "    }\n",
       "\n",
       "    .dataframe thead th {\n",
       "        text-align: right;\n",
       "    }\n",
       "</style>\n",
       "<table border=\"1\" class=\"dataframe\">\n",
       "  <thead>\n",
       "    <tr style=\"text-align: right;\">\n",
       "      <th></th>\n",
       "      <th>Postal Code</th>\n",
       "      <th>Borough</th>\n",
       "      <th>Neighbourhood</th>\n",
       "    </tr>\n",
       "  </thead>\n",
       "  <tbody>\n",
       "    <tr>\n",
       "      <th>0</th>\n",
       "      <td>M1A</td>\n",
       "      <td>Not assigned</td>\n",
       "      <td>Not assigned</td>\n",
       "    </tr>\n",
       "    <tr>\n",
       "      <th>1</th>\n",
       "      <td>M2A</td>\n",
       "      <td>Not assigned</td>\n",
       "      <td>Not assigned</td>\n",
       "    </tr>\n",
       "    <tr>\n",
       "      <th>2</th>\n",
       "      <td>M3A</td>\n",
       "      <td>North York</td>\n",
       "      <td>Parkwoods</td>\n",
       "    </tr>\n",
       "    <tr>\n",
       "      <th>3</th>\n",
       "      <td>M4A</td>\n",
       "      <td>North York</td>\n",
       "      <td>Victoria Village</td>\n",
       "    </tr>\n",
       "    <tr>\n",
       "      <th>4</th>\n",
       "      <td>M5A</td>\n",
       "      <td>Downtown Toronto</td>\n",
       "      <td>Regent Park, Harbourfront</td>\n",
       "    </tr>\n",
       "  </tbody>\n",
       "</table>\n",
       "</div>"
      ],
      "text/plain": [
       "  Postal Code           Borough              Neighbourhood\n",
       "0         M1A      Not assigned               Not assigned\n",
       "1         M2A      Not assigned               Not assigned\n",
       "2         M3A        North York                  Parkwoods\n",
       "3         M4A        North York           Victoria Village\n",
       "4         M5A  Downtown Toronto  Regent Park, Harbourfront"
      ]
     },
     "execution_count": 15,
     "metadata": {},
     "output_type": "execute_result"
    }
   ],
   "source": [
    "df.head()  #examine df"
   ]
  },
  {
   "cell_type": "markdown",
   "metadata": {},
   "source": [
    "The table contains many rows of 'Not Assigned' post codes - we should therefore clean the table to remove these rows:"
   ]
  },
  {
   "cell_type": "code",
   "execution_count": 20,
   "metadata": {},
   "outputs": [],
   "source": [
    "df = df[df.Borough != 'Not assigned'] #Drops 'Not Assigned' rows"
   ]
  },
  {
   "cell_type": "code",
   "execution_count": 25,
   "metadata": {},
   "outputs": [
    {
     "data": {
      "text/plain": [
       "(103, 3)"
      ]
     },
     "execution_count": 25,
     "metadata": {},
     "output_type": "execute_result"
    }
   ],
   "source": [
    "df.shape"
   ]
  },
  {
   "cell_type": "markdown",
   "metadata": {},
   "source": [
    "## Part 2:   Adding geo data\n",
    "\n",
    "**note: We used the CSV of geospatial data rather than Geocoder, as geocoder wasn't working**\n"
   ]
  },
  {
   "cell_type": "code",
   "execution_count": 29,
   "metadata": {},
   "outputs": [
    {
     "data": {
      "text/plain": [
       "(103, 3)"
      ]
     },
     "execution_count": 29,
     "metadata": {},
     "output_type": "execute_result"
    }
   ],
   "source": [
    "geo = pd.read_csv('http://cocl.us/Geospatial_data')\n",
    "geo.shape # check shape is the same as df"
   ]
  },
  {
   "cell_type": "code",
   "execution_count": 31,
   "metadata": {},
   "outputs": [
    {
     "data": {
      "text/html": [
       "<div>\n",
       "<style scoped>\n",
       "    .dataframe tbody tr th:only-of-type {\n",
       "        vertical-align: middle;\n",
       "    }\n",
       "\n",
       "    .dataframe tbody tr th {\n",
       "        vertical-align: top;\n",
       "    }\n",
       "\n",
       "    .dataframe thead th {\n",
       "        text-align: right;\n",
       "    }\n",
       "</style>\n",
       "<table border=\"1\" class=\"dataframe\">\n",
       "  <thead>\n",
       "    <tr style=\"text-align: right;\">\n",
       "      <th></th>\n",
       "      <th>Postal Code</th>\n",
       "      <th>Latitude</th>\n",
       "      <th>Longitude</th>\n",
       "    </tr>\n",
       "  </thead>\n",
       "  <tbody>\n",
       "    <tr>\n",
       "      <th>0</th>\n",
       "      <td>M1B</td>\n",
       "      <td>43.806686</td>\n",
       "      <td>-79.194353</td>\n",
       "    </tr>\n",
       "    <tr>\n",
       "      <th>1</th>\n",
       "      <td>M1C</td>\n",
       "      <td>43.784535</td>\n",
       "      <td>-79.160497</td>\n",
       "    </tr>\n",
       "    <tr>\n",
       "      <th>2</th>\n",
       "      <td>M1E</td>\n",
       "      <td>43.763573</td>\n",
       "      <td>-79.188711</td>\n",
       "    </tr>\n",
       "    <tr>\n",
       "      <th>3</th>\n",
       "      <td>M1G</td>\n",
       "      <td>43.770992</td>\n",
       "      <td>-79.216917</td>\n",
       "    </tr>\n",
       "    <tr>\n",
       "      <th>4</th>\n",
       "      <td>M1H</td>\n",
       "      <td>43.773136</td>\n",
       "      <td>-79.239476</td>\n",
       "    </tr>\n",
       "  </tbody>\n",
       "</table>\n",
       "</div>"
      ],
      "text/plain": [
       "  Postal Code   Latitude  Longitude\n",
       "0         M1B  43.806686 -79.194353\n",
       "1         M1C  43.784535 -79.160497\n",
       "2         M1E  43.763573 -79.188711\n",
       "3         M1G  43.770992 -79.216917\n",
       "4         M1H  43.773136 -79.239476"
      ]
     },
     "execution_count": 31,
     "metadata": {},
     "output_type": "execute_result"
    }
   ],
   "source": [
    "geo.head() "
   ]
  },
  {
   "cell_type": "markdown",
   "metadata": {},
   "source": [
    "*We now need to merge the table with lat/longs into our table of Toronto neighbourhoods. The easiest way to do this is using the merge function in pandas*"
   ]
  },
  {
   "cell_type": "code",
   "execution_count": 32,
   "metadata": {},
   "outputs": [
    {
     "data": {
      "text/html": [
       "<div>\n",
       "<style scoped>\n",
       "    .dataframe tbody tr th:only-of-type {\n",
       "        vertical-align: middle;\n",
       "    }\n",
       "\n",
       "    .dataframe tbody tr th {\n",
       "        vertical-align: top;\n",
       "    }\n",
       "\n",
       "    .dataframe thead th {\n",
       "        text-align: right;\n",
       "    }\n",
       "</style>\n",
       "<table border=\"1\" class=\"dataframe\">\n",
       "  <thead>\n",
       "    <tr style=\"text-align: right;\">\n",
       "      <th></th>\n",
       "      <th>Postal Code</th>\n",
       "      <th>Borough</th>\n",
       "      <th>Neighbourhood</th>\n",
       "      <th>Latitude</th>\n",
       "      <th>Longitude</th>\n",
       "    </tr>\n",
       "  </thead>\n",
       "  <tbody>\n",
       "    <tr>\n",
       "      <th>0</th>\n",
       "      <td>M3A</td>\n",
       "      <td>North York</td>\n",
       "      <td>Parkwoods</td>\n",
       "      <td>43.753259</td>\n",
       "      <td>-79.329656</td>\n",
       "    </tr>\n",
       "    <tr>\n",
       "      <th>1</th>\n",
       "      <td>M4A</td>\n",
       "      <td>North York</td>\n",
       "      <td>Victoria Village</td>\n",
       "      <td>43.725882</td>\n",
       "      <td>-79.315572</td>\n",
       "    </tr>\n",
       "    <tr>\n",
       "      <th>2</th>\n",
       "      <td>M5A</td>\n",
       "      <td>Downtown Toronto</td>\n",
       "      <td>Regent Park, Harbourfront</td>\n",
       "      <td>43.654260</td>\n",
       "      <td>-79.360636</td>\n",
       "    </tr>\n",
       "    <tr>\n",
       "      <th>3</th>\n",
       "      <td>M6A</td>\n",
       "      <td>North York</td>\n",
       "      <td>Lawrence Manor, Lawrence Heights</td>\n",
       "      <td>43.718518</td>\n",
       "      <td>-79.464763</td>\n",
       "    </tr>\n",
       "    <tr>\n",
       "      <th>4</th>\n",
       "      <td>M7A</td>\n",
       "      <td>Downtown Toronto</td>\n",
       "      <td>Queen's Park, Ontario Provincial Government</td>\n",
       "      <td>43.662301</td>\n",
       "      <td>-79.389494</td>\n",
       "    </tr>\n",
       "  </tbody>\n",
       "</table>\n",
       "</div>"
      ],
      "text/plain": [
       "  Postal Code           Borough                                Neighbourhood  \\\n",
       "0         M3A        North York                                    Parkwoods   \n",
       "1         M4A        North York                             Victoria Village   \n",
       "2         M5A  Downtown Toronto                    Regent Park, Harbourfront   \n",
       "3         M6A        North York             Lawrence Manor, Lawrence Heights   \n",
       "4         M7A  Downtown Toronto  Queen's Park, Ontario Provincial Government   \n",
       "\n",
       "    Latitude  Longitude  \n",
       "0  43.753259 -79.329656  \n",
       "1  43.725882 -79.315572  \n",
       "2  43.654260 -79.360636  \n",
       "3  43.718518 -79.464763  \n",
       "4  43.662301 -79.389494  "
      ]
     },
     "execution_count": 32,
     "metadata": {},
     "output_type": "execute_result"
    }
   ],
   "source": [
    "df = pd.merge(df, geo, on=\"Postal Code\")  # creates in inner join of the two tables with the Postal Code as the key.\n",
    "\n",
    "df.head()\n",
    "\n"
   ]
  },
  {
   "cell_type": "markdown",
   "metadata": {},
   "source": [
    "## Part 3: Segmenting and Clustering Toronto\n"
   ]
  },
  {
   "cell_type": "code",
   "execution_count": 42,
   "metadata": {},
   "outputs": [
    {
     "name": "stdout",
     "output_type": "stream",
     "text": [
      "Collecting package metadata (current_repodata.json): ...working... done\n",
      "Solving environment: ...working... done\n",
      "\n",
      "# All requested packages already installed.\n",
      "\n",
      "^C\n",
      "Libraries imported.\n"
     ]
    }
   ],
   "source": [
    "# download libraries\n",
    "\n",
    "import numpy as np # library to handle data in a vectorized manner\n",
    "\n",
    "import json # library to handle JSON files\n",
    "\n",
    "!conda install -c conda-forge geopy --yes \n",
    "\n",
    "from geopy.geocoders import Nominatim # convert an address into latitude and longitude values\n",
    "\n",
    "import requests # library to handle requests\n",
    "from pandas.io.json import json_normalize # tranform JSON file into a pandas dataframe\n",
    "\n",
    "# Matplotlib and associated plotting modules\n",
    "import matplotlib.cm as cm\n",
    "import matplotlib.colors as colors\n",
    "\n",
    "# import k-means from clustering stage\n",
    "from sklearn.cluster import KMeans\n",
    "\n",
    "!conda install -c conda-forge folium=0.5.0 --\n",
    "import folium # map rendering library\n",
    "\n",
    "print('Libraries imported.')"
   ]
  },
  {
   "cell_type": "code",
   "execution_count": 41,
   "metadata": {},
   "outputs": [
    {
     "name": "stdout",
     "output_type": "stream",
     "text": [
      "Requirement already satisfied: folium in c:\\users\\storm\\anaconda3\\lib\\site-packages (0.11.0)Note: you may need to restart the kernel to use updated packages.\n",
      "\n",
      "Requirement already satisfied: requests in c:\\users\\storm\\anaconda3\\lib\\site-packages (from folium) (2.24.0)\n",
      "Requirement already satisfied: numpy in c:\\users\\storm\\anaconda3\\lib\\site-packages (from folium) (1.18.5)\n",
      "Requirement already satisfied: branca>=0.3.0 in c:\\users\\storm\\anaconda3\\lib\\site-packages (from folium) (0.4.1)\n",
      "Requirement already satisfied: jinja2>=2.9 in c:\\users\\storm\\anaconda3\\lib\\site-packages (from folium) (2.11.2)\n",
      "Requirement already satisfied: certifi>=2017.4.17 in c:\\users\\storm\\anaconda3\\lib\\site-packages (from requests->folium) (2020.6.20)\n",
      "Requirement already satisfied: urllib3!=1.25.0,!=1.25.1,<1.26,>=1.21.1 in c:\\users\\storm\\anaconda3\\lib\\site-packages (from requests->folium) (1.25.9)\n",
      "Requirement already satisfied: chardet<4,>=3.0.2 in c:\\users\\storm\\anaconda3\\lib\\site-packages (from requests->folium) (3.0.4)\n",
      "Requirement already satisfied: idna<3,>=2.5 in c:\\users\\storm\\anaconda3\\lib\\site-packages (from requests->folium) (2.10)\n",
      "Requirement already satisfied: MarkupSafe>=0.23 in c:\\users\\storm\\anaconda3\\lib\\site-packages (from jinja2>=2.9->folium) (1.1.1)\n"
     ]
    }
   ],
   "source": [
    "pip install folium"
   ]
  },
  {
   "cell_type": "markdown",
   "metadata": {},
   "source": [
    "###  Define location of Toronto"
   ]
  },
  {
   "cell_type": "code",
   "execution_count": 160,
   "metadata": {},
   "outputs": [
    {
     "name": "stdout",
     "output_type": "stream",
     "text": [
      "The geograpical coordinate of Toronto are 43.6534817, -79.3839347.\n"
     ]
    }
   ],
   "source": [
    "address = 'Toronto, Canada'\n",
    "\n",
    "geolocator = Nominatim(user_agent=\"toronto_explorer\")\n",
    "location = geolocator.geocode(address)\n",
    "latitude = location.latitude\n",
    "longitude = location.longitude\n",
    "print('The geograpical coordinate of Toronto are {}, {}.'.format(latitude, longitude))"
   ]
  },
  {
   "cell_type": "markdown",
   "metadata": {},
   "source": [
    "### Display a map of Toronto with the neighbourhoods marked"
   ]
  },
  {
   "cell_type": "code",
   "execution_count": 161,
   "metadata": {},
   "outputs": [
    {
     "data": {
      "text/html": [
       "<div style=\"width:100%;\"><div style=\"position:relative;width:100%;height:0;padding-bottom:60%;\"><span style=\"color:#565656\">Make this Notebook Trusted to load map: File -> Trust Notebook</span><iframe src=\"about:blank\" style=\"position:absolute;width:100%;height:100%;left:0;top:0;border:none !important;\" data-html=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 onload=\"this.contentDocument.open();this.contentDocument.write(atob(this.getAttribute('data-html')));this.contentDocument.close();\" allowfullscreen webkitallowfullscreen mozallowfullscreen></iframe></div></div>"
      ],
      "text/plain": [
       "<folium.folium.Map at 0x24ae20bc700>"
      ]
     },
     "execution_count": 161,
     "metadata": {},
     "output_type": "execute_result"
    }
   ],
   "source": [
    "# create map of Toronto using latitude and longitude values\n",
    "map_toronto = folium.Map(location=[latitude, longitude], zoom_start=10)\n",
    "\n",
    "# add markers to map\n",
    "for lat, lng, borough, neighbourhood in zip(df['Latitude'], df['Longitude'], df['Borough'], df['Neighbourhood']):\n",
    "    label = '{}, {}'.format(neighbourhood, borough)\n",
    "    label = folium.Popup(label, parse_html=True)\n",
    "    folium.CircleMarker(\n",
    "        [lat, lng],\n",
    "        radius=5,\n",
    "        popup=label,\n",
    "        color='blue',\n",
    "        fill=True,\n",
    "        fill_color='#3186cc',\n",
    "        fill_opacity=0.7,\n",
    "        parse_html=False).add_to(map_toronto)  \n",
    "    \n",
    "map_toronto"
   ]
  },
  {
   "cell_type": "code",
   "execution_count": 162,
   "metadata": {},
   "outputs": [
    {
     "name": "stdout",
     "output_type": "stream",
     "text": [
      "Your credentails:\n",
      "CLIENT_ID: TSQ1CMHPJEE1OUFFX40T3OHLZEBBWGF12CBNY1QNAYG23QXF\n",
      "CLIENT_SECRET:I2MGNXH3WXLSVBEBFRX52SJ3CM2PNUB4USXFJXBDRHFK15PK\n"
     ]
    }
   ],
   "source": [
    "CLIENT_ID = 'TSQ1CMHPJEE1OUFFX40T3OHLZEBBWGF12CBNY1QNAYG23QXF' # your Foursquare ID\n",
    "CLIENT_SECRET = 'I2MGNXH3WXLSVBEBFRX52SJ3CM2PNUB4USXFJXBDRHFK15PK' # your Foursquare Secret\n",
    "VERSION = '20180605' # Foursquare API version\n",
    "\n",
    "print('Your credentails:')\n",
    "print('CLIENT_ID: ' + CLIENT_ID)\n",
    "print('CLIENT_SECRET:' + CLIENT_SECRET)"
   ]
  },
  {
   "cell_type": "markdown",
   "metadata": {},
   "source": [
    "## Define function for getting first 100 venues in each neighbourhood"
   ]
  },
  {
   "cell_type": "code",
   "execution_count": 163,
   "metadata": {},
   "outputs": [],
   "source": [
    "def getNearbyVenues(names, latitudes, longitudes, radius=500, LIMIT=100):\n",
    "    \n",
    "    venues_list=[]\n",
    "    for name, lat, lng in zip(names, latitudes, longitudes):\n",
    "        print(name)\n",
    "            \n",
    "        # create the API request URL\n",
    "        url = 'https://api.foursquare.com/v2/venues/explore?&client_id={}&client_secret={}&v={}&ll={},{}&radius={}&limit={}'.format(\n",
    "            CLIENT_ID, \n",
    "            CLIENT_SECRET, \n",
    "            VERSION, \n",
    "            lat, \n",
    "            lng, \n",
    "            radius, \n",
    "            LIMIT)\n",
    "            \n",
    "        # make the GET request\n",
    "        results = requests.get(url).json()[\"response\"]['groups'][0]['items']\n",
    "        \n",
    "        # return only relevant information for each nearby venue\n",
    "        venues_list.append([(\n",
    "            name, \n",
    "            lat, \n",
    "            lng, \n",
    "            v['venue']['name'], \n",
    "            v['venue']['location']['lat'], \n",
    "            v['venue']['location']['lng'],  \n",
    "            v['venue']['categories'][0]['name']) for v in results])\n",
    "\n",
    "    nearby_venues = pd.DataFrame([item for venue_list in venues_list for item in venue_list])\n",
    "    nearby_venues.columns = ['Neighbourhood', \n",
    "                  'Neighbourhood Latitude', \n",
    "                  'Neighbourhood Longitude', \n",
    "                  'Venue', \n",
    "                  'Venue Latitude', \n",
    "                  'Venue Longitude', \n",
    "                  'Venue Category']\n",
    "    \n",
    "    return(nearby_venues)"
   ]
  },
  {
   "cell_type": "code",
   "execution_count": null,
   "metadata": {},
   "outputs": [
    {
     "name": "stdout",
     "output_type": "stream",
     "text": [
      "Parkwoods\n",
      "Victoria Village\n",
      "Regent Park, Harbourfront\n",
      "Lawrence Manor, Lawrence Heights\n",
      "Queen's Park, Ontario Provincial Government\n",
      "Islington Avenue, Humber Valley Village\n",
      "Malvern, Rouge\n",
      "Don Mills\n",
      "Parkview Hill, Woodbine Gardens\n",
      "Garden District, Ryerson\n",
      "Glencairn\n",
      "West Deane Park, Princess Gardens, Martin Grove, Islington, Cloverdale\n",
      "Rouge Hill, Port Union, Highland Creek\n",
      "Don Mills\n",
      "Woodbine Heights\n",
      "St. James Town\n",
      "Humewood-Cedarvale\n",
      "Eringate, Bloordale Gardens, Old Burnhamthorpe, Markland Wood\n",
      "Guildwood, Morningside, West Hill\n",
      "The Beaches\n",
      "Berczy Park\n",
      "Caledonia-Fairbanks\n",
      "Woburn\n",
      "Leaside\n",
      "Central Bay Street\n",
      "Christie\n",
      "Cedarbrae\n",
      "Hillcrest Village\n",
      "Bathurst Manor, Wilson Heights, Downsview North\n",
      "Thorncliffe Park\n",
      "Richmond, Adelaide, King\n",
      "Dufferin, Dovercourt Village\n",
      "Scarborough Village\n",
      "Fairview, Henry Farm, Oriole\n",
      "Northwood Park, York University\n",
      "East Toronto, Broadview North (Old East York)\n",
      "Harbourfront East, Union Station, Toronto Islands\n",
      "Little Portugal, Trinity\n",
      "Kennedy Park, Ionview, East Birchmount Park\n",
      "Bayview Village\n",
      "Downsview\n",
      "The Danforth West, Riverdale\n",
      "Toronto Dominion Centre, Design Exchange\n",
      "Brockton, Parkdale Village, Exhibition Place\n",
      "Golden Mile, Clairlea, Oakridge\n",
      "York Mills, Silver Hills\n",
      "Downsview\n",
      "India Bazaar, The Beaches West\n",
      "Commerce Court, Victoria Hotel\n",
      "North Park, Maple Leaf Park, Upwood Park\n",
      "Humber Summit\n",
      "Cliffside, Cliffcrest, Scarborough Village West\n",
      "Willowdale, Newtonbrook\n",
      "Downsview\n",
      "Studio District\n",
      "Bedford Park, Lawrence Manor East\n",
      "Del Ray, Mount Dennis, Keelsdale and Silverthorn\n",
      "Humberlea, Emery\n",
      "Birch Cliff, Cliffside West\n",
      "Willowdale, Willowdale East\n",
      "Downsview\n",
      "Lawrence Park\n",
      "Roselawn\n",
      "Runnymede, The Junction North\n",
      "Weston\n",
      "Dorset Park, Wexford Heights, Scarborough Town Centre\n",
      "York Mills West\n",
      "Davisville North\n",
      "Forest Hill North & West, Forest Hill Road Park\n",
      "High Park, The Junction South\n",
      "Westmount\n",
      "Wexford, Maryvale\n",
      "Willowdale, Willowdale West\n",
      "North Toronto West, Lawrence Park\n",
      "The Annex, North Midtown, Yorkville\n",
      "Parkdale, Roncesvalles\n",
      "Canada Post Gateway Processing Centre\n",
      "Kingsview Village, St. Phillips, Martin Grove Gardens, Richview Gardens\n",
      "Agincourt\n",
      "Davisville\n",
      "University of Toronto, Harbord\n",
      "Runnymede, Swansea\n",
      "Clarks Corners, Tam O'Shanter, Sullivan\n",
      "Moore Park, Summerhill East\n",
      "Kensington Market, Chinatown, Grange Park\n",
      "Milliken, Agincourt North, Steeles East, L'Amoreaux East\n",
      "Summerhill West, Rathnelly, South Hill, Forest Hill SE, Deer Park\n",
      "CN Tower, King and Spadina, Railway Lands, Harbourfront West, Bathurst Quay, South Niagara, Island airport\n",
      "New Toronto, Mimico South, Humber Bay Shores\n",
      "South Steeles, Silverstone, Humbergate, Jamestown, Mount Olive, Beaumond Heights, Thistletown, Albion Gardens\n",
      "Steeles West, L'Amoreaux West\n",
      "Rosedale\n",
      "Stn A PO Boxes\n",
      "Alderwood, Long Branch\n",
      "Northwest, West Humber - Clairville\n",
      "Upper Rouge\n",
      "St. James Town, Cabbagetown\n",
      "First Canadian Place, Underground city\n",
      "The Kingsway, Montgomery Road, Old Mill North\n",
      "Church and Wellesley\n",
      "Business reply mail Processing Centre, South Central Letter Processing Plant Toronto\n"
     ]
    }
   ],
   "source": [
    "toronto_venues = getNearbyVenues(names=df['Neighbourhood'],\n",
    "                                   latitudes=df['Latitude'],\n",
    "                                   longitudes=df['Longitude']\n",
    "                                  )\n",
    "\n"
   ]
  },
  {
   "cell_type": "code",
   "execution_count": null,
   "metadata": {},
   "outputs": [],
   "source": [
    "toronto_venues.head()"
   ]
  },
  {
   "cell_type": "code",
   "execution_count": null,
   "metadata": {},
   "outputs": [],
   "source": [
    "print('There are {} uniques categories.'.format(len(toronto_venues['Venue Category'].unique())))"
   ]
  },
  {
   "cell_type": "markdown",
   "metadata": {},
   "source": [
    "## One Hot Encoding\n",
    "Let's change the categorical values into One-hot encoding:"
   ]
  },
  {
   "cell_type": "code",
   "execution_count": null,
   "metadata": {},
   "outputs": [],
   "source": [
    "# one hot encoding\n",
    "toronto_onehot = pd.get_dummies(toronto_venues[['Venue Category']], prefix=\"\", prefix_sep=\"\")\n",
    "\n",
    "# add neighborhood column back to dataframe\n",
    "toronto_onehot['Neighbourhood'] = toronto_venues['Neighbourhood'] \n",
    "\n",
    "# move neighborhood column to the first column\n",
    "fixed_columns = [toronto_onehot.columns[-1]] + list(toronto_onehot.columns[:-1])\n",
    "toronto_onehot = toronto_onehot[fixed_columns]\n",
    "\n",
    "toronto_onehot.head()"
   ]
  },
  {
   "cell_type": "code",
   "execution_count": null,
   "metadata": {},
   "outputs": [],
   "source": [
    "toronto_onehot.shape"
   ]
  },
  {
   "cell_type": "code",
   "execution_count": null,
   "metadata": {},
   "outputs": [],
   "source": [
    "toronto_grouped = toronto_onehot.groupby('Neighbourhood').mean().reset_index()  #Group by Neighbourhood\n",
    "toronto_grouped"
   ]
  },
  {
   "cell_type": "markdown",
   "metadata": {},
   "source": [
    "### Create a dataframe of the top 10 venues in each neighbourhood"
   ]
  },
  {
   "cell_type": "code",
   "execution_count": null,
   "metadata": {},
   "outputs": [],
   "source": [
    "def return_most_common_venues(row, num_top_venues):\n",
    "    row_categories = row.iloc[1:]\n",
    "    row_categories_sorted = row_categories.sort_values(ascending=False)\n",
    "    \n",
    "    return row_categories_sorted.index.values[0:num_top_venues]"
   ]
  },
  {
   "cell_type": "code",
   "execution_count": null,
   "metadata": {},
   "outputs": [],
   "source": [
    "num_top_venues = 10\n",
    "\n",
    "indicators = ['st', 'nd', 'rd']\n",
    "\n",
    "# create columns according to number of top venues\n",
    "columns = ['Neighbourhood']\n",
    "for ind in np.arange(num_top_venues):\n",
    "    try:\n",
    "        columns.append('{}{} Most Common Venue'.format(ind+1, indicators[ind]))\n",
    "    except:\n",
    "        columns.append('{}th Most Common Venue'.format(ind+1))\n",
    "\n",
    "# create a new dataframe\n",
    "neighbourhoods_venues_sorted = pd.DataFrame(columns=columns)\n",
    "neighbourhoods_venues_sorted['Neighbourhood'] = toronto_grouped['Neighbourhood']\n",
    "\n",
    "for ind in np.arange(toronto_grouped.shape[0]):\n",
    "    neighbourhoods_venues_sorted.iloc[ind, 1:] = return_most_common_venues(toronto_grouped.iloc[ind, :], num_top_venues)\n",
    "\n",
    "neighbourhoods_venues_sorted.head()"
   ]
  },
  {
   "cell_type": "markdown",
   "metadata": {},
   "source": [
    "## Use K-means clustering to group similar neighbourhoods"
   ]
  },
  {
   "cell_type": "code",
   "execution_count": null,
   "metadata": {},
   "outputs": [],
   "source": [
    "# set number of clusters\n",
    "kclusters = 4\n",
    "\n",
    "toronto_grouped_clustering = toronto_grouped.drop('Neighbourhood', 1)\n",
    "\n",
    "# run k-means clustering\n",
    "kmeans = KMeans(n_clusters=kclusters, random_state=0).fit(toronto_grouped_clustering)\n",
    "\n",
    "# check cluster labels generated for each row in the dataframe\n",
    "kmeans.labels_[0:10] "
   ]
  },
  {
   "cell_type": "markdown",
   "metadata": {},
   "source": [
    "### Merge with list of neighbourhoods"
   ]
  },
  {
   "cell_type": "code",
   "execution_count": null,
   "metadata": {},
   "outputs": [],
   "source": [
    "# add clustering labels\n",
    "neighbourhoods_venues_sorted.insert(0, 'Cluster Labels', kmeans.labels_)\n",
    "\n",
    "toronto_merged = df\n",
    "\n",
    "# merge toronto_grouped with toronto_data to add latitude/longitude for each neighborhood\n",
    "toronto_merged = toronto_merged.join(neighbourhoods_venues_sorted.set_index('Neighbourhood'), on='Neighbourhood')\n",
    "\n",
    "toronto_merged.head()"
   ]
  },
  {
   "cell_type": "code",
   "execution_count": null,
   "metadata": {},
   "outputs": [],
   "source": [
    "toronto_merged.dropna(inplace = True)  # dropping null value columns to avoid errors \n",
    "\n",
    "toronto_merged['Cluster Labels'] = toronto_merged['Cluster Labels'].astype(int) # convert cluster labels from float to int"
   ]
  },
  {
   "cell_type": "code",
   "execution_count": null,
   "metadata": {},
   "outputs": [],
   "source": [
    "# create map\n",
    "map_clusters = folium.Map(location=[latitude, longitude], zoom_start=11)\n",
    "\n",
    "# set color scheme for the clusters\n",
    "x = np.arange(kclusters)\n",
    "ys = [i + x + (i*x)**2 for i in range(kclusters)]\n",
    "colors_array = cm.rainbow(np.linspace(0, 1, len(ys)))\n",
    "rainbow = [colors.rgb2hex(i) for i in colors_array]\n",
    "\n",
    "# add markers to the map\n",
    "markers_colors = []\n",
    "for lat, lon, poi, cluster in zip(toronto_merged['Latitude'], toronto_merged['Longitude'], toronto_merged['Neighbourhood'], toronto_merged['Cluster Labels']):\n",
    "    label = folium.Popup(str(poi) + ' Cluster ' + str(cluster), parse_html=True)\n",
    "    folium.CircleMarker(\n",
    "        [lat, lon],\n",
    "        radius=5,\n",
    "        popup=label,\n",
    "        color=rainbow[cluster-1],\n",
    "        fill=True,\n",
    "        fill_color=rainbow[cluster-1],\n",
    "        fill_opacity=0.7).add_to(map_clusters)\n",
    "       \n",
    "map_clusters"
   ]
  },
  {
   "cell_type": "markdown",
   "metadata": {},
   "source": [
    "## Examine our clusters"
   ]
  },
  {
   "cell_type": "markdown",
   "metadata": {},
   "source": [
    "### Cluster 1 - 'Toronto Dining out'\n",
    "This cluster is dispersed into Toronto's suburbs, and has an abundance of restautants, cafes and pubs. "
   ]
  },
  {
   "cell_type": "code",
   "execution_count": null,
   "metadata": {
    "scrolled": true
   },
   "outputs": [],
   "source": [
    "toronto_dining_out = toronto_merged.loc[toronto_merged['Cluster Labels'] == 0, toronto_merged.columns[[1] + list(range(5, toronto_merged.shape[1]))]]\n",
    "\n",
    "toronto_dining_out"
   ]
  },
  {
   "cell_type": "markdown",
   "metadata": {},
   "source": [
    "## Cluster 2 - Toronto loves Coffee\n",
    "\n",
    "This cluster appears to include much of Downtown Toronto, and is especially good for coffee shops \n"
   ]
  },
  {
   "cell_type": "code",
   "execution_count": null,
   "metadata": {},
   "outputs": [],
   "source": [
    "toronto_coffee = toronto_merged.loc[toronto_merged['Cluster Labels'] == 1, toronto_merged.columns[[1] + list(range(5, toronto_merged.shape[1]))]]\n",
    "\n",
    "toronto_coffee"
   ]
  },
  {
   "cell_type": "markdown",
   "metadata": {},
   "source": [
    "## Cluster 3: Toronto's Green Spaces\n",
    "This cluster has picked out Toronto's parks and dog walks "
   ]
  },
  {
   "cell_type": "code",
   "execution_count": null,
   "metadata": {},
   "outputs": [],
   "source": [
    "toronto_parks = toronto_merged.loc[toronto_merged['Cluster Labels'] == 2, toronto_merged.columns[[1] + list(range(5, toronto_merged.shape[1]))]]\n",
    "\n",
    "toronto_parks"
   ]
  },
  {
   "cell_type": "markdown",
   "metadata": {},
   "source": [
    "## Cluster 4: Toronto's Gyms, Discount Stores and Dim Sum\n",
    "The smallest cluster with just two locations that have 8/10 shared common venues - but are geographically quite far apart!"
   ]
  },
  {
   "cell_type": "code",
   "execution_count": null,
   "metadata": {},
   "outputs": [],
   "source": [
    "toronto_gyms = toronto_merged.loc[toronto_merged['Cluster Labels'] == 3, toronto_merged.columns[[1] + list(range(5, toronto_merged.shape[1]))]]\n",
    "\n",
    "toronto_gyms"
   ]
  }
 ],
 "metadata": {
  "kernelspec": {
   "display_name": "Python 3",
   "language": "python",
   "name": "python3"
  },
  "language_info": {
   "codemirror_mode": {
    "name": "ipython",
    "version": 3
   },
   "file_extension": ".py",
   "mimetype": "text/x-python",
   "name": "python",
   "nbconvert_exporter": "python",
   "pygments_lexer": "ipython3",
   "version": "3.8.3"
  }
 },
 "nbformat": 4,
 "nbformat_minor": 4
}
